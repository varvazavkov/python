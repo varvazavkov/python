{
 "cells": [
  {
   "cell_type": "markdown",
   "id": "73ba4aa3-8a0e-4611-a34d-d76ffa19c7b8",
   "metadata": {},
   "source": [
    "# Лабораторная работа 4\n",
    "\n",
    "# Правильный многоугольник Рело. Векторизация вычислений в numpy\n",
    "\n",
    "Ковалевская В.С., 17. 03. 2022\n",
    "\n",
    "## Определения и свойства\n",
    "\n",
    "**Треугольник Рело** представляет собой область пересечения трех кругов радуса $r$ с центрами в вершинах равностороннего треугольника с длиной стороны $r$.\n",
    "\n",
    "**Правильный $n$ -угольник Рело** представляет собой область пересечения $n$ кругов радуса $r$ с центрами в вершинах правильного $n$-угольника с нечетным числом сторон длины $l$. Радиус круга $r$ согласован с длиной стороны $l$ правильного многоугольника таким образом, чтобы окружность радиуса $r$ проходила через две соседние вершины правильного $n$-угольника.\n",
    "\n",
    "Правильный многоугольник Рело и круг являются примерами **фигур постоянной ширины**. Для фигуры постоянной ширины можно построить пары параллельных опорных прямых, которые касаются фигуры, но не пересекают ее, и, независимо от выбора пары опорных прямых, расстояние между прямыми будет всегда одинаковым.\n",
    "\n",
    "Расстояние между опорными прямыми называется **шириной фигуры**. Ширина правильного многоугольника Рело равна радиусу $r$ пересекающихся кругов. Ширина круга равна диаметру круга. Среди всех фигур постоянной ширины треугольник Рело имеет наименьшую площадь, круг имеет наибольшую площадь."
   ]
  },
  {
   "cell_type": "markdown",
   "id": "e4b2184c-e8c6-46ce-8a84-e196708ab786",
   "metadata": {},
   "source": [
    "# Задание 4.1 (Правильный многоугольник Рело)\n",
    "\n",
    "$\\color{red}{Напишите}$ пользовательскую функцию **regular_polygon_Relo(n, center, r, N)**, которая возвращает матрицу, каждая строка которой содержит координаты точек, описывающих границу правильного многоугольника Рело.\n",
    "\n",
    "Аргументы пользовательской функции имеют следующий смысл:\n",
    "\n",
    "* **n**: количество вершин правильного многоугольника Рело; является нечетным целым числом большим 2; стандартное значение $n = 3$;\n",
    "\n",
    "* **center**: массив координат центра правильного многоугольника Рело; стандартнное значение $center = np.array([0,0])$;\n",
    "\n",
    "* **r**: ширина правильного многоугольника Рело; является положительным числом; стандартное значение $r = 1$;\n",
    "\n",
    "* **N**: количество точек для описания одной стороны правильного многоугольника Рело; является натуральным числом; стандартное значение $N = 100$.\n",
    "\n",
    "## Реализация задания 4.1"
   ]
  },
  {
   "cell_type": "code",
   "execution_count": 1,
   "id": "e5cb1fe1-ef43-422c-b487-94a03a39a1d9",
   "metadata": {},
   "outputs": [],
   "source": [
    "import math #импортируем нужные модули\n",
    "import numpy as np\n",
    "import matplotlib.pyplot as plt"
   ]
  },
  {
   "cell_type": "markdown",
   "id": "c286d5c0-1cb5-44f5-a97d-ac6df0c48735",
   "metadata": {},
   "source": [
    "### Этап 1. Построение треугольника Рело\n",
    "\n",
    "#### 1. Определение переменных"
   ]
  },
  {
   "cell_type": "code",
   "execution_count": 2,
   "id": "1dfe3133-2e56-402e-9806-26abe2800101",
   "metadata": {},
   "outputs": [],
   "source": [
    "n = 3 # количество вершин треугольника Рело\n",
    "center = np.array([0,0]) # координаты центра треугольника Рело\n",
    "r = 10. # ширина треугольника Рело\n",
    "N = 100 # количество точек для описания стороны треугольника Рело"
   ]
  },
  {
   "cell_type": "markdown",
   "id": "8817ffd4-05bc-42e4-bc9e-c5dd92ccf20f",
   "metadata": {},
   "source": [
    "#### 2. Вычисление координат вершин правильного треугольника\n",
    "\n",
    "Вершины правильного многоугольника расположены на окружности, описанной вокруг многоугольника. Радиус $R$ окружности, описанной вокруг правильного $n$-угольника с длиной стороны $l$, вычисляется по формуле $$R = \\frac{l}{2sin\\pi/n}.$$\n",
    "\n",
    "Длина стороны $l$ правильного треугольника, на котором будем строить треугольник Рело, совпадает с шириной треугольника Рело $r$."
   ]
  },
  {
   "cell_type": "code",
   "execution_count": 3,
   "id": "11e03637-e9fb-44f0-b5b8-d7f0105cf5f2",
   "metadata": {},
   "outputs": [],
   "source": [
    "l = r # !!! равенство справедливо только для треугольника Рело"
   ]
  },
  {
   "cell_type": "markdown",
   "id": "51511fc9-42b0-47e3-806e-fa73b5f2e0a4",
   "metadata": {},
   "source": [
    "Вычислим радиус $R$ описанной окружности"
   ]
  },
  {
   "cell_type": "code",
   "execution_count": 4,
   "id": "d500430c-1790-4c57-a123-4dbcf52f624b",
   "metadata": {},
   "outputs": [
    {
     "data": {
      "text/plain": [
       "5.773502691896258"
      ]
     },
     "execution_count": 4,
     "metadata": {},
     "output_type": "execute_result"
    }
   ],
   "source": [
    "R = l/(2*math.sin(math.pi/n)) #радиус описанной окружности\n",
    "R"
   ]
  },
  {
   "cell_type": "markdown",
   "id": "224f2082-2757-40fc-8596-6c618e05cc8d",
   "metadata": {},
   "source": [
    "Введем прямоугольную декартову систему координат. Построим матрицу с координатами вершин правильного треугольника. Центр треуголника размещаем в точке $center$, радиус описанной окружности полагаем равным $R$."
   ]
  },
  {
   "cell_type": "code",
   "execution_count": 5,
   "id": "5325f8fc-b4e2-4684-b80a-e068105e8636",
   "metadata": {},
   "outputs": [
    {
     "data": {
      "text/plain": [
       "array([[ 5.77350269,  0.        ],\n",
       "       [-2.88675135,  5.        ],\n",
       "       [-2.88675135, -5.        ]])"
      ]
     },
     "execution_count": 5,
     "metadata": {},
     "output_type": "execute_result"
    }
   ],
   "source": [
    "t = np.arange(0,2*np.pi,2*np.pi/n) #получаем array от start = 0 до stop = 2*np.pi с шагом step = 2*np.pi/n \n",
    "\n",
    "# обратите внимание на векторизацию вычислений с массивами без использования циклов\n",
    "vertices = center + R*np.transpose([np.cos(t), np.sin(t)]) #строим матрицу с координатами вершин правильного треугольника\n",
    "vertices"
   ]
  },
  {
   "cell_type": "code",
   "execution_count": 6,
   "id": "665073f0-6894-4da5-81cb-3d43a38f5d4a",
   "metadata": {},
   "outputs": [
    {
     "name": "stdout",
     "output_type": "stream",
     "text": [
      "[0.        2.0943951 4.1887902]\n",
      "[[ 5.77350269  0.        ]\n",
      " [-2.88675135  5.        ]\n",
      " [-2.88675135 -5.        ]]\n"
     ]
    },
    {
     "data": {
      "text/plain": [
       "(array([[ 6.77350269,  1.        ],\n",
       "        [-1.88675135,  6.        ],\n",
       "        [-1.88675135, -4.        ]]),\n",
       " array([ 6.77350269, -1.88675135, -1.88675135]))"
      ]
     },
     "execution_count": 6,
     "metadata": {},
     "output_type": "execute_result"
    }
   ],
   "source": [
    "print(t)\n",
    "print(R*np.transpose([np.cos(t), np.sin(t)]))\n",
    "arc = np.array([1,1])\n",
    "v = arc + R*np.transpose([np.cos(t), np.sin(t)])\n",
    "v, v[:,0]"
   ]
  },
  {
   "cell_type": "code",
   "execution_count": 7,
   "id": "e2633911-65b1-452b-a4a1-b058327611f7",
   "metadata": {},
   "outputs": [
    {
     "data": {
      "image/png": "[encoded data removed]",
      "text/plain": [
       "<Figure size 432x288 with 1 Axes>"
      ]
     },
     "metadata": {
      "needs_background": "light"
     },
     "output_type": "display_data"
    }
   ],
   "source": [
    "plt.plot(vertices[:,0],vertices[:,1],'r.',markersize=20)\n",
    "plt.axis('equal');"
   ]
  },
  {
   "cell_type": "markdown",
   "id": "f64d715e-2126-4212-b3a8-96135376868c",
   "metadata": {},
   "source": [
    "#### 3. Представление одной стороны треугольника Рело\n",
    "\n",
    "Обозначим через $\\alpha$ центральный угол, соответствующий стороне правильногo $n$-угольника. Тогда $$\\alpha = 2\\pi/n.$$\n",
    "\n",
    "Обозначим через $\\beta$ центральный угол, соответствующий стороне правильного многоугольника Рело, когда центр окружности расположен в вершине правильного многоугольника. Тогда $$\\beta = \\alpha/2.$$\n",
    "\n",
    "Построим матрицу с координатами точек, описывающих сторону треугольника Рело относительно вершины vertices[0]. Сторона представляет собой дугу окружности радиуса $r$ с центром в точке vertices[0] и значением угла $[\\pi - \\beta/2, \\pi + \\beta/2]$.\n",
    "\n",
    "Вычислим значения введенных величин"
   ]
  },
  {
   "cell_type": "code",
   "execution_count": 8,
   "id": "cc2c582b-9599-45a9-aa4a-a0f85320d6f0",
   "metadata": {},
   "outputs": [],
   "source": [
    "alpha = 2*math.pi/n #центральный угол, соответствующий одной стороне правильного многоугольника\n",
    "beta = alpha/2 # центральный угол, соответствующий стороне многоугольника, когда центр окр=ти расположен в вершине многоугольника"
   ]
  },
  {
   "cell_type": "markdown",
   "id": "1fb4b404-18d6-49be-96ac-8865439c5193",
   "metadata": {},
   "source": [
    "Введем вспомогательную последовательность значений угла для построения координат точек стороны треугольника Рело"
   ]
  },
  {
   "cell_type": "code",
   "execution_count": 9,
   "id": "00e7069d-b0a3-4e07-9f51-1e6fdbacadad",
   "metadata": {},
   "outputs": [
    {
     "data": {
      "text/plain": [
       "100"
      ]
     },
     "execution_count": 9,
     "metadata": {},
     "output_type": "execute_result"
    }
   ],
   "source": [
    "angle = np.linspace(-beta/2, beta/2, N) #генерация последовательности чисел в линейном пространстве с одинаковым размером шага\n",
    "len(angle)"
   ]
  },
  {
   "cell_type": "markdown",
   "id": "2008c7e3-be1f-45a3-9bbf-9607b33cf93b",
   "metadata": {},
   "source": [
    "Строим матрицу с координатами точек первой стороны"
   ]
  },
  {
   "cell_type": "code",
   "execution_count": 10,
   "id": "ba8a03d7-7dff-4b2f-b6bf-762dfc0fb254",
   "metadata": {},
   "outputs": [],
   "source": [
    "# обратите внимание на векторизацию вычислений с массивами без использования циклов\n",
    "side0 = vertices[0] + r*np.transpose([np.cos(angle + np.pi), np.sin(angle + np.pi)]) # матрица координат точек одной стороны многоугольника"
   ]
  },
  {
   "cell_type": "code",
   "execution_count": 11,
   "id": "cc55053d-5553-4814-9d0e-3df3dfb647e8",
   "metadata": {},
   "outputs": [
    {
     "data": {
      "image/png": "[encoded data removed]",
      "text/plain": [
       "<Figure size 432x288 with 1 Axes>"
      ]
     },
     "metadata": {
      "needs_background": "light"
     },
     "output_type": "display_data"
    }
   ],
   "source": [
    "plt.plot(vertices[:,0],vertices[:,1],'r.',markersize=20) #вершины\n",
    "plt.plot(side0[:,0],side0[:,1],'b-',markersize=20) #одна сторона\n",
    "plt.axis('equal');"
   ]
  },
  {
   "cell_type": "markdown",
   "id": "6d9609f7-c079-4756-93f5-eff8102d479f",
   "metadata": {},
   "source": [
    "Построим матрицу с координатами точек, описывающих сторону треугольника Рело относительно второй вершины vertices[1]. Сторона представляет собой дугу окружности радиуса $r$ с центром в точке vertices[1] и значением угла $[\\pi + \\alpha - \\beta/2, \\pi + \\alpha + \\beta/2]$."
   ]
  },
  {
   "cell_type": "code",
   "execution_count": 12,
   "id": "58dca98b-96b2-4c58-9242-142b957478dd",
   "metadata": {},
   "outputs": [],
   "source": [
    "# обратите внимание на векторизацию вычислений с массивами без использования циклов\n",
    "side1 = vertices[1] + r*np.transpose([np.cos(angle + np.pi + alpha), np.sin(angle + np.pi + alpha)])#матрица координат точек второй стороны многоугольника"
   ]
  },
  {
   "cell_type": "code",
   "execution_count": 13,
   "id": "f6d16e55-41de-45cd-be48-73b769614c24",
   "metadata": {},
   "outputs": [
    {
     "data": {
      "image/png": "[encoded data removed]",
      "text/plain": [
       "<Figure size 432x288 with 1 Axes>"
      ]
     },
     "metadata": {
      "needs_background": "light"
     },
     "output_type": "display_data"
    }
   ],
   "source": [
    "plt.plot(vertices[:,0],vertices[:,1],'r.',markersize=20)#вершины\n",
    "plt.plot(side0[:,0],side0[:,1],'b-',markersize=20)#одна сторона\n",
    "plt.plot(side1[:,0],side1[:,1],'g-',markersize=20)#вторая сторона\n",
    "plt.axis('equal');"
   ]
  },
  {
   "cell_type": "markdown",
   "id": "c1291ed2-3fca-492c-849e-efc45874cef2",
   "metadata": {},
   "source": [
    "#### 4. Моделирование границы треугольника Рело\n",
    "\n",
    "Создадим список из матриц, каждая их которых содержит координаты точек одной из сторон треугольника Рело"
   ]
  },
  {
   "cell_type": "code",
   "execution_count": 14,
   "id": "23c5c7ae-b785-40e0-922f-496c563c5014",
   "metadata": {},
   "outputs": [],
   "source": [
    "# обратите внимание на векторизацию вычислений с массивами без использования циклов\n",
    "list_sides = [vertices[i] + r*np.transpose([np.cos(angle + np.pi + i*alpha), np.sin(angle + np.pi + i*alpha)]) for i in range(n)]"
   ]
  },
  {
   "cell_type": "markdown",
   "id": "e7e8a9c9-355c-452b-a1c5-1039f7363f6b",
   "metadata": {},
   "source": [
    "С помощью фунции **concatenate** из расширения numpy объединим массивы для каждой из сторон в единый массив sides"
   ]
  },
  {
   "cell_type": "code",
   "execution_count": 15,
   "id": "a822db5b-87ce-43a2-9420-5a5cc1cce457",
   "metadata": {},
   "outputs": [],
   "source": [
    "sides = np.concatenate(list_sides) #объединяем массивы для каждой из сторон многоугольника в единый массив"
   ]
  },
  {
   "cell_type": "code",
   "execution_count": 16,
   "id": "b05425a1-2a61-4f43-bae0-c1856cdd1657",
   "metadata": {},
   "outputs": [
    {
     "data": {
      "image/png": "[encoded data removed]",
      "text/plain": [
       "<Figure size 432x288 with 1 Axes>"
      ]
     },
     "metadata": {
      "needs_background": "light"
     },
     "output_type": "display_data"
    }
   ],
   "source": [
    "plt.plot(vertices[:,0],vertices[:,1],'r.',markersize=20)#вершины\n",
    "plt.plot(sides[:,0],sides[:,1],'b-',markersize=20)#стороны\n",
    "plt.axis('equal');"
   ]
  },
  {
   "cell_type": "markdown",
   "id": "5d5a46ad-5744-49ef-95e2-20656f519aa7",
   "metadata": {},
   "source": [
    "### Этап 2. Построение правильного многоугольника Рело\n",
    "\n",
    "Следуя аналогичным рассуждениям из Этапа 1, $\\color{red}{создайте}$ матричное описание границы правильного многоугольника Рело для произвольных значений переменных n, center, r, N.\n",
    "\n",
    "$\\color{red}{Внимание:}$ длина стороны $l$ правильного многоугольника, на основании которого строится многоугольник Рело, является неизвестной величиной и должна быть выражена через количество вершин $n$ и ширину $r$ многоугольника Рело.\n",
    "\n",
    "$\\color{red}{Напишите}$ подробно, как получена аналитическая зависимость $l$ от $n$ и $r$. Объяснения оформите в тексте документа с лабораторной работой."
   ]
  },
  {
   "cell_type": "markdown",
   "id": "29628699-d08d-4217-8280-5f236df46c9c",
   "metadata": {},
   "source": [
    "Пусть А - одна из вершин правильного n-угольника Рело, ВС = l, сторона, лежащая напротив вершины А. Угол альфа $\\alpha$ - центральный угол, соответствующий стороне правильногo $n$-угольникаб $\\alpha = 2\\pi/n.$ $\\beta$ центральный угол, соответствующий стороне правильного многоугольника Рело, когда центр окружности расположен в вершине правильного многоугольника, $\\beta = \\alpha/2.$\n",
    "\n",
    "Рассмотрим треугольник АВС. В нем угол $АВС = \\beta$, BC = l. BA = CA = r, т.е. треугольник АВС - равнобедренный (1). Проведем из т. А высоту АН на ВС, тогда по (1) - ВН = НС = l/2, $BAH = \\beta/2 $. В прямоугольном треугольнике ВАН: $\\sin(\\frac{\\beta}{2}) = \\frac{l r}{2}$. Отсюда $l = 2r\\sin(\\frac{\\beta}{2}).$\n",
    "\n",
    "Используя формулу нахождения длины стороны l, построим правильный 5-угольник Рело."
   ]
  },
  {
   "cell_type": "code",
   "execution_count": 17,
   "id": "ebcac73f-c58f-4fd3-a7cf-f02d63a89c37",
   "metadata": {},
   "outputs": [],
   "source": [
    "n_5 = 5 #кол-во вершин многоугольника\n",
    "center_5 = np.array([0,0]) #массив координат центра правильного многоугольника\n",
    "r_5 = 10. #ширина правильного многоугольника \n",
    "N_5 = 100 #количество точек для описания одной стороны правильного многоугольника"
   ]
  },
  {
   "cell_type": "code",
   "execution_count": 18,
   "id": "d5844ddf-0fc4-4e32-bb38-c43cecf1c64c",
   "metadata": {},
   "outputs": [],
   "source": [
    "alpha_5 = 2*math.pi/n_5 #центральный угол, соответствующий стороне правильног n-угольника\n",
    "beta_5 = alpha_5/2 #центральный угол, соответствующий стороне правильного многоугольника Рело, когда центр окружности расположен в вершине правильного многоугольника"
   ]
  },
  {
   "cell_type": "code",
   "execution_count": 19,
   "id": "2026b27e-4555-4742-8d61-f640ee4efa99",
   "metadata": {},
   "outputs": [
    {
     "data": {
      "text/plain": [
       "6.180339887498948"
      ]
     },
     "execution_count": 19,
     "metadata": {},
     "output_type": "execute_result"
    }
   ],
   "source": [
    "l_5 = 2*r_5*math.sin(beta_5/2) #длина стороны\n",
    "l_5"
   ]
  },
  {
   "cell_type": "code",
   "execution_count": 20,
   "id": "d93be7ce-a693-4967-854d-74b7286ad6c2",
   "metadata": {},
   "outputs": [
    {
     "data": {
      "text/plain": [
       "5.257311121191336"
      ]
     },
     "execution_count": 20,
     "metadata": {},
     "output_type": "execute_result"
    }
   ],
   "source": [
    "R_5 = l_5/(2*math.sin(math.pi/n_5)) #R окружности, описанной вокруг правильного \n",
    "R_5"
   ]
  },
  {
   "cell_type": "code",
   "execution_count": 21,
   "id": "05519c50-9a4c-4e7c-8374-98850030f856",
   "metadata": {},
   "outputs": [
    {
     "data": {
      "text/plain": [
       "array([[ 5.25731112,  0.        ],\n",
       "       [ 1.62459848,  5.        ],\n",
       "       [-4.25325404,  3.09016994],\n",
       "       [-4.25325404, -3.09016994],\n",
       "       [ 1.62459848, -5.        ]])"
      ]
     },
     "execution_count": 21,
     "metadata": {},
     "output_type": "execute_result"
    }
   ],
   "source": [
    "t_5 = np.arange(0,2*np.pi,2*np.pi/n_5)\n",
    "\n",
    "vertices_5 = center_5 + R_5*np.transpose([np.cos(t_5), np.sin(t_5)]) #координаты вершин правильного многоугольника\n",
    "vertices_5"
   ]
  },
  {
   "cell_type": "code",
   "execution_count": 22,
   "id": "0a3b17b3-e8d0-4200-9057-6fc4fb840bf0",
   "metadata": {},
   "outputs": [
    {
     "data": {
      "image/png": "[encoded data removed]",
      "text/plain": [
       "<Figure size 432x288 with 1 Axes>"
      ]
     },
     "metadata": {
      "needs_background": "light"
     },
     "output_type": "display_data"
    }
   ],
   "source": [
    "plt.plot(vertices_5[:,0],vertices_5[:,1],'r.',markersize=20) #вершины\n",
    "plt.axis('equal');"
   ]
  },
  {
   "cell_type": "code",
   "execution_count": 23,
   "id": "a27dfd6d-bb42-413a-a268-0aa930bae750",
   "metadata": {},
   "outputs": [],
   "source": [
    "angle_5 = np.linspace(-beta_5/2, beta_5/2, N_5)#генерация последовательности чисел в линейном пространстве с одинаковым размером шага"
   ]
  },
  {
   "cell_type": "code",
   "execution_count": 24,
   "id": "916cf130-cd90-4e06-b8a3-69d5dc24ae3a",
   "metadata": {},
   "outputs": [],
   "source": [
    "side0_5 = vertices_5[0] + r_5*np.transpose([np.cos(angle_5 + np.pi), np.sin(angle_5 + np.pi)]) #матрицa с координатами точек первой стороны"
   ]
  },
  {
   "cell_type": "code",
   "execution_count": 25,
   "id": "e1eb58f7-eb92-4f75-9b15-aa02e095652f",
   "metadata": {},
   "outputs": [
    {
     "data": {
      "image/png": "[encoded data removed]",
      "text/plain": [
       "<Figure size 432x288 with 1 Axes>"
      ]
     },
     "metadata": {
      "needs_background": "light"
     },
     "output_type": "display_data"
    }
   ],
   "source": [
    "plt.plot(vertices_5[:,0],vertices_5[:,1],'r.',markersize=20)#вершины\n",
    "plt.plot(side0_5[:,0],side0_5[:,1],'b-',markersize=20)#одна сторона\n",
    "plt.axis('equal');"
   ]
  },
  {
   "cell_type": "code",
   "execution_count": 26,
   "id": "9f77a78f-508b-474e-b2c9-7cd30386cf90",
   "metadata": {},
   "outputs": [],
   "source": [
    "side1_5 = vertices_5[1] + r_5*np.transpose([np.cos(angle_5 + np.pi + alpha_5), np.sin(angle_5 + np.pi + alpha_5)])#массив координат точек второй стороны многоугольника"
   ]
  },
  {
   "cell_type": "code",
   "execution_count": 27,
   "id": "f935f1e6-2bbf-48cb-82a2-1c3763c8fc04",
   "metadata": {},
   "outputs": [
    {
     "data": {
      "image/png": "[encoded data removed]",
      "text/plain": [
       "<Figure size 432x288 with 1 Axes>"
      ]
     },
     "metadata": {
      "needs_background": "light"
     },
     "output_type": "display_data"
    }
   ],
   "source": [
    "plt.plot(vertices_5[:,0],vertices_5[:,1],'r.',markersize=20)#вершины\n",
    "plt.plot(side0_5[:,0],side0_5[:,1],'b-',markersize=20)#одна сторона\n",
    "plt.plot(side1_5[:,0],side1_5[:,1],'g-',markersize=20)#вторая сторона\n",
    "plt.axis('equal');"
   ]
  },
  {
   "cell_type": "markdown",
   "id": "fdb28a89-a8d0-4091-a9b3-fa37c1a96dc3",
   "metadata": {},
   "source": [
    "Создадим список из матриц, каждая их которых содержит координаты точек одной из сторон пятиугольника Рело"
   ]
  },
  {
   "cell_type": "code",
   "execution_count": 35,
   "id": "cd9fe756-4f3d-43aa-982c-5f3b09b61c4a",
   "metadata": {},
   "outputs": [],
   "source": [
    "list_sides_5 = [vertices_5[i] + r_5*np.transpose([np.cos(angle_5 + np.pi + i*alpha_5), np.sin(angle_5 + np.pi + i*alpha_5)]) for i in range(n_5)]"
   ]
  },
  {
   "cell_type": "code",
   "execution_count": 36,
   "id": "bece3197-b678-4126-b99e-bbbd9d92426e",
   "metadata": {},
   "outputs": [],
   "source": [
    "sides_5 = np.concatenate(list_sides_5) #c помощью фунции concatenate из расширения numpy объединим массивы для каждой из сторон в единый массив sides"
   ]
  },
  {
   "cell_type": "code",
   "execution_count": 30,
   "id": "c9bcf290-5515-4916-ad61-9f9e2b80817a",
   "metadata": {},
   "outputs": [
    {
     "data": {
      "image/png": "[encoded data removed]",
      "text/plain": [
       "<Figure size 432x288 with 1 Axes>"
      ]
     },
     "metadata": {
      "needs_background": "light"
     },
     "output_type": "display_data"
    }
   ],
   "source": [
    "plt.plot(vertices_5[:,0],vertices_5[:,1],'r.',markersize=20)#вершины\n",
    "plt.plot(sides_5[:,0],sides_5[:,1],'b-',markersize=20)#стороны многоугольника\n",
    "plt.axis('equal');"
   ]
  },
  {
   "cell_type": "markdown",
   "id": "e9950699-67fb-4331-b01e-2eecaba917e4",
   "metadata": {},
   "source": [
    "### Этап 3. Результирующая пользовательская функция\n",
    "\n",
    "$\\color{red}{Напишите}$ результирующую пользовательскую функцию **regular_polygon_Relo(n, center, r, N)** на основании кода из Этапа 2.\n",
    "\n",
    "Для функции regular_polygon_Relo $\\color{red}{напишите}$ строки документации.\n",
    "\n",
    "$\\color{red}{Протестируйте}$ функцию regular_polygon_Relo для различных значений аргументов в предположении, что корректность вводимых данных не гарантируется.\n",
    "\n",
    "$\\color{red}{Постройте}$ в одной системе координат правильные многоугольники Рело для различного количества вершин и различных положений центров. При этом $\\color{red}{вызывайте}$ функцию regular_polygon_Relo с различными способами указания позиционных и ключевых аргументов.\n",
    "\n",
    "$\\color{red}{Создайте}$ модуль relo.py, в котором будет содержаться пользовательская функция regular_polygon_Relo."
   ]
  },
  {
   "cell_type": "code",
   "execution_count": 31,
   "id": "db8f01b4-0b1b-4479-8942-05d06cb688b2",
   "metadata": {},
   "outputs": [],
   "source": [
    "def regular_polygon_Relo(n = 3, center = np.array([0,0]), r = 1, N = 100):\n",
    "    \"\"\"\n",
    "    Arguments: \n",
    "    n: количество вершин правильного многоугольника Рело,\n",
    "    значение по умодчанию n = 3;\n",
    "    \n",
    "    center: массив координат центра правильного многоугольника Рело\n",
    "    значение по умодчанию center = np.array([0,0]);\n",
    "    \n",
    "    r: ширина правильного многоугольника Рело,\n",
    "    значение по умодчанию r = 1;\n",
    "    \n",
    "    N: количество точек для описания одной стороны правильного многоугольника Рело,\n",
    "    значение по умодчанию N = 100.\n",
    "    \n",
    "    Return: sides_n\n",
    "    \n",
    "    Функция возвращает матрицу, каждая строка которой содержит\n",
    "    координаты точек, описывающих границу правильного многоугольника Рело\n",
    "    \"\"\"\n",
    "    assert r > 0, 'radius r should be positive' #оператор assert генерирует исключение по условию\n",
    "    assert n % 2 == 1, 'the number of vertices must be odd' #n % 2 == 1 - остаток от деления на 2 = 1 - число нечетное\n",
    "    assert isinstance(n,int) and n >= 3, 'the number of vertices should be integer and greater than 2' #isinstance(n,int) - проверяем является ли число целым\n",
    "    assert isinstance(N,int) and N > 0, 'N should be natural number'\n",
    "    \n",
    "    alpha = 2*math.pi/n\n",
    "    beta = alpha/2\n",
    "    center = np.array(center)\n",
    "    \n",
    "    l = 2*r*math.sin(beta/2) #считаем длину стороны правильного n-угольника Рело\n",
    "    R = l/(2*math.sin(math.pi/n)) #радиус окружности, описанной вокруг правильного n-угольника со стороной l\n",
    "    \n",
    "    t = np.arange(0,2*np.pi,2*np.pi/n)\n",
    "    vertices = center + R*np.transpose([np.cos(t), np.sin(t)]) #координаты вершин правильного n-угольника\n",
    "    angle = np.linspace(-beta/2, beta/2, N)\n",
    "    \n",
    "    list_sides = [vertices[i] + r*np.transpose([np.cos(angle + np.pi + i*alpha), np.sin(angle + np.pi + i*alpha)]) for i in range(n)]\n",
    "    sides_n = np.concatenate(list_sides)\n",
    "    \n",
    "    return sides_n"
   ]
  },
  {
   "cell_type": "code",
   "execution_count": 32,
   "id": "8508b5ae-c470-4c9b-8bbb-5de94e249ac9",
   "metadata": {},
   "outputs": [
    {
     "data": {
      "image/png": "[encoded data removed]",
      "text/plain": [
       "<Figure size 432x288 with 1 Axes>"
      ]
     },
     "metadata": {
      "needs_background": "light"
     },
     "output_type": "display_data"
    }
   ],
   "source": [
    "pol_1 = regular_polygon_Relo()\n",
    "pol_2 = regular_polygon_Relo(5, np.array([-1,-1]))\n",
    "pol_3 = regular_polygon_Relo(7, np.array([-0.5,-1]),0.5,3)\n",
    "pol_4 = regular_polygon_Relo(n = 7, r = 4)\n",
    "pol_5 = regular_polygon_Relo(7, np.array([-2,1]))\n",
    "pol_6 = regular_polygon_Relo(n = 3, center = np.array([-2,-0.5]), N = 2, r = 2.5)\n",
    "\n",
    "plt.plot(pol_1[:,0],pol_1[:,1],'b-',markersize=20)\n",
    "plt.plot(pol_2[:,0],pol_2[:,1],'m-',markersize=20)\n",
    "plt.plot(pol_3[:,0],pol_3[:,1],'g-',markersize=20)\n",
    "plt.plot(pol_4[:,0],pol_4[:,1],'r-',markersize=20)\n",
    "plt.plot(pol_5[:,0],pol_5[:,1],'c-',markersize=20)\n",
    "plt.plot(pol_6[:,0],pol_6[:,1],'y-',markersize=20)\n",
    "plt.axis('equal');"
   ]
  },
  {
   "cell_type": "code",
   "execution_count": 33,
   "id": "638c52cb-b808-4da4-aded-6be22162b30d",
   "metadata": {},
   "outputs": [
    {
     "data": {
      "image/png": "[encoded data removed]",
      "text/plain": [
       "<Figure size 432x288 with 1 Axes>"
      ]
     },
     "metadata": {
      "needs_background": "light"
     },
     "output_type": "display_data"
    }
   ],
   "source": [
    "pl1 = regular_polygon_Relo(center = 1)\n",
    "pl2 = regular_polygon_Relo(center = [0,1])\n",
    "\n",
    "plt.plot(pl1[:,0],pl1[:,1],'g-',markersize=20)\n",
    "plt.plot(pl2[:,0],pl2[:,1],'m-',markersize=20)\n",
    "plt.axis('equal');"
   ]
  },
  {
   "cell_type": "code",
   "execution_count": 34,
   "id": "0a74aaa7-491c-454a-a65a-d39f8a925860",
   "metadata": {},
   "outputs": [
    {
     "ename": "AssertionError",
     "evalue": "the number of vertices must be odd",
     "output_type": "error",
     "traceback": [
      "\u001b[1;31m---------------------------------------------------------------------------\u001b[0m",
      "\u001b[1;31mAssertionError\u001b[0m                            Traceback (most recent call last)",
      "\u001b[1;32m~\\AppData\\Local\\Temp/ipykernel_10136/310063173.py\u001b[0m in \u001b[0;36m<module>\u001b[1;34m\u001b[0m\n\u001b[1;32m----> 1\u001b[1;33m \u001b[0mregular_polygon_Relo\u001b[0m\u001b[1;33m(\u001b[0m\u001b[1;36m0\u001b[0m\u001b[1;33m)\u001b[0m \u001b[1;31m#n = 0 - исключение по условию, т.к. n должно быть нечетным и большим 2\u001b[0m\u001b[1;33m\u001b[0m\u001b[1;33m\u001b[0m\u001b[0m\n\u001b[0m",
      "\u001b[1;32m~\\AppData\\Local\\Temp/ipykernel_10136/359765052.py\u001b[0m in \u001b[0;36mregular_polygon_Relo\u001b[1;34m(n, center, r, N)\u001b[0m\n\u001b[0;32m     20\u001b[0m     \"\"\"\n\u001b[0;32m     21\u001b[0m     \u001b[1;32massert\u001b[0m \u001b[0mr\u001b[0m \u001b[1;33m>\u001b[0m \u001b[1;36m0\u001b[0m\u001b[1;33m,\u001b[0m \u001b[1;34m'radius r should be positive'\u001b[0m \u001b[1;31m#оператор assert генерирует исключение по условию\u001b[0m\u001b[1;33m\u001b[0m\u001b[1;33m\u001b[0m\u001b[0m\n\u001b[1;32m---> 22\u001b[1;33m     \u001b[1;32massert\u001b[0m \u001b[0mn\u001b[0m \u001b[1;33m%\u001b[0m \u001b[1;36m2\u001b[0m \u001b[1;33m==\u001b[0m \u001b[1;36m1\u001b[0m\u001b[1;33m,\u001b[0m \u001b[1;34m'the number of vertices must be odd'\u001b[0m \u001b[1;31m#n % 2 == 1 - остаток от деления на 2 = 1 - число нечетное\u001b[0m\u001b[1;33m\u001b[0m\u001b[1;33m\u001b[0m\u001b[0m\n\u001b[0m\u001b[0;32m     23\u001b[0m     \u001b[1;32massert\u001b[0m \u001b[0misinstance\u001b[0m\u001b[1;33m(\u001b[0m\u001b[0mn\u001b[0m\u001b[1;33m,\u001b[0m\u001b[0mint\u001b[0m\u001b[1;33m)\u001b[0m \u001b[1;32mand\u001b[0m \u001b[0mn\u001b[0m \u001b[1;33m>=\u001b[0m \u001b[1;36m3\u001b[0m\u001b[1;33m,\u001b[0m \u001b[1;34m'the number of vertices should be integer and greater than 2'\u001b[0m \u001b[1;31m#isinstance(n,int) - проверяем является ли число целым\u001b[0m\u001b[1;33m\u001b[0m\u001b[1;33m\u001b[0m\u001b[0m\n\u001b[0;32m     24\u001b[0m     \u001b[1;32massert\u001b[0m \u001b[0misinstance\u001b[0m\u001b[1;33m(\u001b[0m\u001b[0mN\u001b[0m\u001b[1;33m,\u001b[0m\u001b[0mint\u001b[0m\u001b[1;33m)\u001b[0m \u001b[1;32mand\u001b[0m \u001b[0mN\u001b[0m \u001b[1;33m>\u001b[0m \u001b[1;36m0\u001b[0m\u001b[1;33m,\u001b[0m \u001b[1;34m'N should be natural number'\u001b[0m\u001b[1;33m\u001b[0m\u001b[1;33m\u001b[0m\u001b[0m\n",
      "\u001b[1;31mAssertionError\u001b[0m: the number of vertices must be odd"
     ]
    }
   ],
   "source": [
    " regular_polygon_Relo(0) #n = 0 - исключение по условию, т.к. n должно быть нечетным и большим 2"
   ]
  },
  {
   "cell_type": "code",
   "execution_count": null,
   "id": "1546a11c-034c-4249-9dfb-38ccadd44f9d",
   "metadata": {},
   "outputs": [],
   "source": [
    "regular_polygon_Relo(9,r = -4) #r= -4  - исключение по условию, т.к. r > 0"
   ]
  },
  {
   "cell_type": "code",
   "execution_count": null,
   "id": "f9d7869c-bcda-494d-9a47-baa0fb467401",
   "metadata": {},
   "outputs": [],
   "source": [
    "import relo #создали и импортировали модуль relo.py"
   ]
  },
  {
   "cell_type": "code",
   "execution_count": null,
   "id": "eb9b0d42-9a43-450e-a0f3-5e72640d78b0",
   "metadata": {},
   "outputs": [],
   "source": [
    "pol = relo.regular_polygon_Relo() #из модуля вызвали функцию regular_polygon_Relo"
   ]
  },
  {
   "cell_type": "code",
   "execution_count": null,
   "id": "851c6f09-aea9-45f7-b8fc-463f116479f1",
   "metadata": {},
   "outputs": [],
   "source": [
    "plt.plot(pol[:,0],pol[:,1],'c-',markersize=20)\n",
    "plt.axis('equal');"
   ]
  },
  {
   "cell_type": "code",
   "execution_count": null,
   "id": "89854568-ad54-4306-aec3-cdb7b7324ff2",
   "metadata": {},
   "outputs": [],
   "source": []
  }
 ],
 "metadata": {
  "kernelspec": {
   "display_name": "Python 3 (ipykernel)",
   "language": "python",
   "name": "python3"
  },
  "language_info": {
   "codemirror_mode": {
    "name": "ipython",
    "version": 3
   },
   "file_extension": ".py",
   "mimetype": "text/x-python",
   "name": "python",
   "nbconvert_exporter": "python",
   "pygments_lexer": "ipython3",
   "version": "3.9.7"
  }
 },
 "nbformat": 4,
 "nbformat_minor": 5
}
