{
 "cells": [
  {
   "cell_type": "markdown",
   "id": "5f526118-ac9f-4b17-8ca6-d7cd2c7e6b5a",
   "metadata": {},
   "source": [
    "# Лабораторная работа 9\n",
    "\n",
    "# Обход бинарного дерева поиска. Поиск максимального и минимального значений\n",
    "\n",
    "Ковалевская В.С., 12. 05. 2022\n",
    "\n",
    "## Задание 9.1 (Центрированный обход бинарного дерева поиска)\n",
    "\n",
    "$\\color{red}{Доопределите}$ $\\color{red}{или}$ $\\color{red}{переопределите}$ классы BinaryTree, BinaryNode, EmptyNode из Лабораторной работы 8 за счет определения нового метода lcr(self), реализующего центрированный обход бинарного дерева поиска. Рекомендации по выполнению представлены в лекции к теме Бинарное дерево поиска. Реализация на основе ООП.\n",
    "\n",
    "Результатом вызова метода lcr для экземпляра класса BinaryTree должен быть список значений вершин дерева, отсортированных по возрастанию.\n",
    "\n",
    "$\\color{red}{Создайте}$ список source_data из $10^3$ случайных чисел, равномерно распределенных на отрезке $[0, 100]$. \n",
    "\n",
    "$\\color{red}{Постройте}$ бинарное дерево поиска по списку случайных чисел и $\\color{red}{выполните}$ центрированный обход дерева с помощью метода lcr.\n",
    "\n",
    "$\\color{red}{Изобразите}$ график по точкам, ординаты которых заданы списком source_data. В этой же графической области $\\color{red}{изобразите}$ график по точкам, коодинаты которых заданы списком, результатом центрированного обхода бинарного дерева поиска.\n",
    "\n",
    "### Выполнение Задания 9.1"
   ]
  },
  {
   "cell_type": "markdown",
   "id": "e430d190-ce27-4551-bdba-fdd62811ceb8",
   "metadata": {},
   "source": [
    "Центрированный обход бинарного дерева поиска реализует сортировку по возрастанию числовой последовательности, записанной в виде дерева.\n",
    "\n",
    "Реализацию центрированного обхода осуществим с помощью метода lcr для трех классов BinaryTree, EmptyNode, BinaryNode."
   ]
  },
  {
   "cell_type": "code",
   "execution_count": 81,
   "id": "ddc2c5de-0352-49c7-b4f1-a5713df92748",
   "metadata": {},
   "outputs": [],
   "source": [
    "class BinaryTree:\n",
    "    def __init__(self): # метод инициализации, вызывается без аргументов\n",
    "        self.root = EmptyNode() # инициализирует единственный атрибут экземпляра класса root экземпляром класса EmptyNode, назначение атрибута root -- это хранение ссылки на корень дерева\n",
    "        BinaryNode.count = 0   # при создании класса атрибут count инициализируется значением 0\n",
    "        \n",
    "    def __repr__(self): # метод строкового представления\n",
    "        return repr(self.root) # возвращает строковое представление для корня дерева root\n",
    "        \n",
    "    def insert(self, value): # метод вставки в дерево нового элемента\n",
    "        self.root = self.root.insert(value) # новый элемент является листом со значением value            \n",
    "        \n",
    "    def __contains__(self, value):\n",
    "        return value in self.root   # возвращаем результат вызова операции in для корневой вершины\n",
    "    \n",
    "    def __len__(self):\n",
    "        return len(self.root)     # вызывает функцию len для корневой вершины\n",
    "    \n",
    "    def lcr(self):\n",
    "        return self.root.lcr()    # метод lcr класса BinaryTree вызывает метод lcr для корневой вершины"
   ]
  },
  {
   "cell_type": "code",
   "execution_count": 82,
   "id": "cc039092-05ef-4f6b-b11c-3dad6eeb9048",
   "metadata": {},
   "outputs": [],
   "source": [
    "class EmptyNode:        \n",
    "    def __repr__(self):         # метод строкового представления\n",
    "        return \"*\"              # возвращает символ *\n",
    "    \n",
    "    def insert(self, value):    # метод вставки в пустую вершину новой вершины со значением value\n",
    "        return BinaryNode(self, value, self) # возвращаем новый экземпляр класса BinaryNode со значением value\n",
    "    \n",
    "    def __contains__(self, value):\n",
    "        return False            # метод __contains__ класса EmptyNode возвращает False\n",
    "    \n",
    "    def __len__(self):\n",
    "        return 0              # возвращаем 0\n",
    "    \n",
    "    def lcr(self):\n",
    "        return []              # метод lcr класса EmptyNode возвращает пустой список"
   ]
  },
  {
   "cell_type": "code",
   "execution_count": 83,
   "id": "5e9c1e46-5aee-4d14-ac68-e2a163537baf",
   "metadata": {},
   "outputs": [],
   "source": [
    "class BinaryNode:\n",
    "    def __init__(self, left, value, right): # Метод инициализации экземпляра класса для инициализации одноименных атрибутов экземпляра класса left, value и right соответствующими значениями\n",
    "        self.left = left                    # left - хранение ссылки на корень левого поддерева\n",
    "        self.value = value                  # value - хранение значения вершины\n",
    "        self.right = right                  # right - хранение ссылки на корень правого поддерева\n",
    "        BinaryNode.count += 1               # при создании экземпляра класса значение атрибута count увеличивается на 1\n",
    "        \n",
    "    def __repr__(self): # Метод строкового представления экземпляра класса __repr__ возвращает кортеж\n",
    "        return \"(%s, %s, %s)\" % (repr(self.left), repr(self.value), repr(self.right))\n",
    "    \n",
    "    def insert(self, value):   # метод вставки в текущую вершину новой вершины value\n",
    "        if value < self.value: #если value<self.value, то вызывается метод insert(value) для левого поддерева\n",
    "            self.left = self.left.insert(value)\n",
    "            return self \n",
    "        else:\n",
    "            self.right = self.right.insert(value) # если value>=self.value, то вызывается метод insert(value) для правого поддерева\n",
    "            return self \n",
    "        \n",
    "    def __contains__(self, value):      # проверяемое значение value сравнивается со значением корневой вершины self.value\n",
    "        if value == self.value:         # если value==self.value, то возвращается True\n",
    "            return True\n",
    "        elif value < self.value:        # если value<self.value, то возвращается результат вызова операции in для корня левого поддерева\n",
    "            return (value in self.left)\n",
    "        else:\n",
    "            return (value in self.right) # если value>self.value, возвращается результат вызова операции in для корня правого поддерева\n",
    "        \n",
    "    def __len__(self):            # метод __len__ класса BinaryNode возвращает значение атрибута count класса BinaryNode\n",
    "        return self.count         # атрибут count используется как счетчик созданных экземпляров класса BinaryNode\n",
    "    \n",
    "    def lcr(self):\n",
    "        result = []                #  создали список, он формируется на основе вызова метода lcr для левого поддерева и правого поддерева\n",
    "        result = self.left.lcr() + [self.value] + self.right.lcr()  # осуществляем конкатенацию по правилу центрирования\n",
    "        return result              "
   ]
  },
  {
   "cell_type": "code",
   "execution_count": 84,
   "id": "4044b2aa-f424-4706-a9b2-eb4ecd2fa135",
   "metadata": {},
   "outputs": [],
   "source": [
    "source_data = [6, 4, 9, 12, 1, 2,1, 89, 54, 3]\n",
    "tree = BinaryTree()\n",
    "for i in source_data:\n",
    "    tree.insert(i)"
   ]
  },
  {
   "cell_type": "code",
   "execution_count": 85,
   "id": "eb750e00-e620-4a36-a137-8cf453467b3d",
   "metadata": {},
   "outputs": [
    {
     "data": {
      "text/plain": [
       "(((*, 1, ((*, 1, *), 2, (*, 3, *))), 4, *), 6, (*, 9, (*, 12, ((*, 54, *), 89, *))))"
      ]
     },
     "execution_count": 85,
     "metadata": {},
     "output_type": "execute_result"
    }
   ],
   "source": [
    "tree"
   ]
  },
  {
   "cell_type": "code",
   "execution_count": 86,
   "id": "7936a818-b1fe-458c-b1ac-fb9bf09200d4",
   "metadata": {},
   "outputs": [
    {
     "data": {
      "text/plain": [
       "[1, 1, 2, 3, 4, 6, 9, 12, 54, 89]"
      ]
     },
     "execution_count": 86,
     "metadata": {},
     "output_type": "execute_result"
    }
   ],
   "source": [
    "sorted_data = tree.lcr()\n",
    "\n",
    "sorted_data"
   ]
  },
  {
   "cell_type": "code",
   "execution_count": 87,
   "id": "17364cd6-8107-4f95-863a-0bca76ec5687",
   "metadata": {},
   "outputs": [],
   "source": [
    "import matplotlib.pyplot as plt"
   ]
  },
  {
   "cell_type": "code",
   "execution_count": 88,
   "id": "dc9f6b55-b8c1-491a-8bfe-b1ab7e74157f",
   "metadata": {},
   "outputs": [],
   "source": [
    "import random as rnd"
   ]
  },
  {
   "cell_type": "code",
   "execution_count": 89,
   "id": "5fa7206a-a621-43b1-b593-b23930caf509",
   "metadata": {},
   "outputs": [],
   "source": [
    "source_data = [rnd.uniform(0,100) for _ in range(10**3)]"
   ]
  },
  {
   "cell_type": "code",
   "execution_count": 90,
   "id": "4068f848-4c5b-4cb4-8f58-e2a6afd38b28",
   "metadata": {},
   "outputs": [],
   "source": [
    "tree = BinaryTree()\n",
    "for i in source_data:\n",
    "    tree.insert(i)"
   ]
  },
  {
   "cell_type": "code",
   "execution_count": 91,
   "id": "b5749506-994b-4ef7-92bd-607320346412",
   "metadata": {},
   "outputs": [],
   "source": [
    "sorted_data = tree.lcr()"
   ]
  },
  {
   "cell_type": "code",
   "execution_count": 92,
   "id": "12a9ac9a-c2b7-4e62-be50-46c2e41a4897",
   "metadata": {},
   "outputs": [
    {
     "data": {
      "text/plain": [
       "<matplotlib.legend.Legend at 0x2709e2b0490>"
      ]
     },
     "execution_count": 92,
     "metadata": {},
     "output_type": "execute_result"
    },
    {
     "data": {
      "image/png": "[encoded data removed]",
      "text/plain": [
       "<Figure size 432x288 with 1 Axes>"
      ]
     },
     "metadata": {
      "needs_background": "light"
     },
     "output_type": "display_data"
    }
   ],
   "source": [
    "plt.plot(source_data,'r.', label='Initial data')\n",
    "plt.plot(sorted_data,color='blue',label='Sorted data')\n",
    "plt.title('Sequences of numbers')\n",
    "plt.legend()"
   ]
  },
  {
   "cell_type": "code",
   "execution_count": 93,
   "id": "21440ce1-ca1a-45e0-a4a9-e33ab455f999",
   "metadata": {},
   "outputs": [],
   "source": [
    "source_data = [rnd.uniform(0,100) for _ in range(10**5)]"
   ]
  },
  {
   "cell_type": "code",
   "execution_count": 94,
   "id": "3d90937f-ad21-4932-aab7-f66d7f209465",
   "metadata": {},
   "outputs": [],
   "source": [
    "tree = BinaryTree()\n",
    "for i in source_data:\n",
    "    tree.insert(i)"
   ]
  },
  {
   "cell_type": "code",
   "execution_count": 95,
   "id": "fa32ae8c-1856-4c57-9d56-f347f0d40008",
   "metadata": {},
   "outputs": [],
   "source": [
    "sorted_data = tree.lcr()"
   ]
  },
  {
   "cell_type": "code",
   "execution_count": 96,
   "id": "4fd26626-f96c-4444-a82e-2c300fda9f49",
   "metadata": {},
   "outputs": [
    {
     "data": {
      "text/plain": [
       "<matplotlib.legend.Legend at 0x2709e01f6a0>"
      ]
     },
     "execution_count": 96,
     "metadata": {},
     "output_type": "execute_result"
    },
    {
     "data": {
      "image/png": "[encoded data removed]",
      "text/plain": [
       "<Figure size 432x288 with 1 Axes>"
      ]
     },
     "metadata": {
      "needs_background": "light"
     },
     "output_type": "display_data"
    }
   ],
   "source": [
    "plt.plot(source_data,'r.', label='Initial data')\n",
    "plt.plot(sorted_data,color='b',label='Sorted data')\n",
    "plt.title('Sequences of numbers')\n",
    "plt.legend()"
   ]
  },
  {
   "cell_type": "markdown",
   "id": "b95dfc7e-7e5f-4294-b1f4-86f079fef97b",
   "metadata": {},
   "source": [
    "## Задание 9.2 (Нахождение минимального и максимального значения)\n",
    "\n",
    "$\\color{red}{Доопределите}$ $\\color{red}{или}$ $\\color{red}{переопределите}$ классы BinaryTree, BinaryNode, EmptyNode за счет определения метода min(self) и max(self) для нахождения минимального и максимального значений в дереве, соответственно. Рекомендации по выполнению представлены в лекции к теме Бинарное дерево поиска. Реализация на основе ООП.\n",
    "\n",
    "$\\color{red}{Протестируйте}$ корректность выполнения методов min и max для ранее созданного дерева tree."
   ]
  },
  {
   "cell_type": "code",
   "execution_count": 97,
   "id": "e2c6283a-9db2-42bb-938b-22569c4b9b2e",
   "metadata": {},
   "outputs": [],
   "source": [
    "class BinaryTree:\n",
    "    def __init__(self): # метод инициализации, вызывается без аргументов\n",
    "        self.root = EmptyNode() # инициализирует единственный атрибут экземпляра класса root экземпляром класса EmptyNode, назначение атрибута root -- это хранение ссылки на корень дерева\n",
    "        BinaryNode.count = 0   # при создании класса атрибут count инициализируется значением 0\n",
    "        \n",
    "    def __repr__(self): # метод строкового представления\n",
    "        return repr(self.root) # возвращает строковое представление для корня дерева root\n",
    "        \n",
    "    def insert(self, value): # метод вставки в дерево нового элемента\n",
    "        self.root = self.root.insert(value) # новый элемент является листом со значением value            \n",
    "        \n",
    "    def __contains__(self, value):\n",
    "        return value in self.root   # возвращаем результат вызова операции in для корневой вершины\n",
    "    \n",
    "    def __len__(self):\n",
    "        return len(self.root)     # вызывает функцию len для корневой вершины\n",
    "    \n",
    "    def lcr(self):\n",
    "        return self.root.lcr()    # метод lcr класса BinaryTree вызывает метод lcr для корневой вершины\n",
    "    \n",
    "    def min(self):\n",
    "        return self.root.min()    #  метод min класса BinaryTree вызывает метод min для корневой вершины"
   ]
  },
  {
   "cell_type": "code",
   "execution_count": 98,
   "id": "4c1a2363-498e-47df-b7c2-d1b08f9590ca",
   "metadata": {},
   "outputs": [],
   "source": [
    "class EmptyNode:        \n",
    "    def __repr__(self):         # метод строкового представления\n",
    "        return \"*\"              # возвращает символ *\n",
    "    \n",
    "    def insert(self, value):    # метод вставки в пустую вершину новой вершины со значением value\n",
    "        return BinaryNode(self, value, self) # возвращаем новый экземпляр класса BinaryNode со значением value\n",
    "    \n",
    "    def __contains__(self, value):\n",
    "        return False            # метод __contains__ класса EmptyNode возвращает False\n",
    "    \n",
    "    def __len__(self):\n",
    "        return 0              # возвращаем 0\n",
    "    \n",
    "    def lcr(self):\n",
    "        return []              # метод lcr класса EmptyNode возвращает пустой список\n",
    "    \n",
    "    def min(self):\n",
    "        return None           # метод min класса EmptyNode возвращает None"
   ]
  },
  {
   "cell_type": "code",
   "execution_count": 99,
   "id": "23b96939-14ff-4ecc-b3ae-b5b94beb7f0b",
   "metadata": {},
   "outputs": [],
   "source": [
    "class BinaryNode:\n",
    "    def __init__(self, left, value, right): # Метод инициализации экземпляра класса для инициализации одноименных атрибутов экземпляра класса left, value и right соответствующими значениями\n",
    "        self.left = left                    # left - хранение ссылки на корень левого поддерева\n",
    "        self.value = value                  # value - хранение значения вершины\n",
    "        self.right = right                  # right - хранение ссылки на корень правого поддерева\n",
    "        BinaryNode.count += 1               # при создании экземпляра класса значение атрибута count увеличивается на 1\n",
    "        \n",
    "    def __repr__(self): # Метод строкового представления экземпляра класса __repr__ возвращает кортеж\n",
    "        return \"(%s, %s, %s)\" % (repr(self.left), repr(self.value), repr(self.right))\n",
    "    \n",
    "    def insert(self, value):   # метод вставки в текущую вершину новой вершины value\n",
    "        if value < self.value: #если value<self.value, то вызывается метод insert(value) для левого поддерева\n",
    "            self.left = self.left.insert(value)\n",
    "            return self \n",
    "        else:\n",
    "            self.right = self.right.insert(value) # если value>=self.value, то вызывается метод insert(value) для правого поддерева\n",
    "            return self \n",
    "        \n",
    "    def __contains__(self, value):      # проверяемое значение value сравнивается со значением корневой вершины self.value\n",
    "        if value == self.value:         # если value==self.value, то возвращается True\n",
    "            return True\n",
    "        elif value < self.value:        # если value<self.value, то возвращается результат вызова операции in для корня левого поддерева\n",
    "            return (value in self.left)\n",
    "        else:\n",
    "            return (value in self.right) # если value>self.value, возвращается результат вызова операции in для корня правого поддерева\n",
    "        \n",
    "    def __len__(self):            # метод __len__ класса BinaryNode возвращает значение атрибута count класса BinaryNode\n",
    "        return self.count         # атрибут count используется как счетчик созданных экземпляров класса BinaryNode\n",
    "    \n",
    "    def lcr(self):\n",
    "        result = []                #  создали список, он формируется на основе вызова метода lcr для левого поддерева и правого поддерева\n",
    "        result = self.left.lcr() + [self.value] + self.right.lcr()  # осуществляем конкатенацию по правилу центрирования\n",
    "        return result              \n",
    "    \n",
    "    def min(self):\n",
    "        if isinstance(self.left, EmptyNode):    # если левое поддерево является пустой вершиной (экземпляром класса  EmptyNode)\n",
    "            return self.value                   # возвращаем self.value \n",
    "        else:                                   # левое поддерево не является пустой вершиной\n",
    "            return self.left.min()              # вызываем метод min для корня левого поддерева"
   ]
  },
  {
   "cell_type": "code",
   "execution_count": 100,
   "id": "43b89e4e-9954-460e-b50a-f5eb7dc11de6",
   "metadata": {},
   "outputs": [
    {
     "data": {
      "text/plain": [
       "*"
      ]
     },
     "execution_count": 100,
     "metadata": {},
     "output_type": "execute_result"
    }
   ],
   "source": [
    "tree = BinaryTree()\n",
    "\n",
    "tree"
   ]
  },
  {
   "cell_type": "code",
   "execution_count": 101,
   "id": "e2cc782f-192a-4145-8335-db021736df80",
   "metadata": {},
   "outputs": [
    {
     "name": "stdout",
     "output_type": "stream",
     "text": [
      "None\n"
     ]
    }
   ],
   "source": [
    "print(tree.min())"
   ]
  },
  {
   "cell_type": "code",
   "execution_count": 102,
   "id": "cfde4bb0-71c9-48f7-8e69-95c75ad6d9c2",
   "metadata": {},
   "outputs": [
    {
     "data": {
      "text/plain": [
       "(*, 5, *)"
      ]
     },
     "execution_count": 102,
     "metadata": {},
     "output_type": "execute_result"
    }
   ],
   "source": [
    "tree.insert(5)\n",
    "tree"
   ]
  },
  {
   "cell_type": "code",
   "execution_count": 103,
   "id": "9eb8c2cf-4aa0-4c05-af36-a4d4dd1bbe35",
   "metadata": {},
   "outputs": [
    {
     "data": {
      "text/plain": [
       "5"
      ]
     },
     "execution_count": 103,
     "metadata": {},
     "output_type": "execute_result"
    }
   ],
   "source": [
    "tree.min()"
   ]
  },
  {
   "cell_type": "code",
   "execution_count": 104,
   "id": "4d0d19ee-0730-4f2b-8230-d097cd90a79b",
   "metadata": {},
   "outputs": [
    {
     "data": {
      "text/plain": [
       "((*, 2, *), 5, *)"
      ]
     },
     "execution_count": 104,
     "metadata": {},
     "output_type": "execute_result"
    }
   ],
   "source": [
    "tree.insert(2)\n",
    "tree"
   ]
  },
  {
   "cell_type": "code",
   "execution_count": 105,
   "id": "98aa602c-2ea6-428e-be84-3ec27fed2402",
   "metadata": {},
   "outputs": [
    {
     "data": {
      "text/plain": [
       "2"
      ]
     },
     "execution_count": 105,
     "metadata": {},
     "output_type": "execute_result"
    }
   ],
   "source": [
    "tree.min()"
   ]
  },
  {
   "cell_type": "code",
   "execution_count": 106,
   "id": "37b4c584-69ff-4aa6-b426-dec995f3f438",
   "metadata": {},
   "outputs": [
    {
     "data": {
      "text/plain": [
       "(((*, 1, *), 2, (*, 4, *)), 5, (*, 11, *))"
      ]
     },
     "execution_count": 106,
     "metadata": {},
     "output_type": "execute_result"
    }
   ],
   "source": [
    "tree.insert(11)\n",
    "tree.insert(4)\n",
    "tree.insert(1)\n",
    "tree"
   ]
  },
  {
   "cell_type": "code",
   "execution_count": 107,
   "id": "b37ec3fc-1c6b-4265-8c79-a84314bf4682",
   "metadata": {},
   "outputs": [
    {
     "data": {
      "text/plain": [
       "1"
      ]
     },
     "execution_count": 107,
     "metadata": {},
     "output_type": "execute_result"
    }
   ],
   "source": [
    "tree.min()"
   ]
  },
  {
   "cell_type": "code",
   "execution_count": 108,
   "id": "e816c6e3-3977-43b1-b32f-d8bf13e1e699",
   "metadata": {},
   "outputs": [],
   "source": [
    "source_data = [rnd.uniform(0,100) for _ in range(10**3)]\n",
    "tree = BinaryTree()\n",
    "for i in source_data:\n",
    "    tree.insert(i)"
   ]
  },
  {
   "cell_type": "code",
   "execution_count": 109,
   "id": "4305b9a5-2fb3-4045-9f4f-6f00fc3e8d74",
   "metadata": {},
   "outputs": [
    {
     "data": {
      "text/plain": [
       "0.29214393789881443"
      ]
     },
     "execution_count": 109,
     "metadata": {},
     "output_type": "execute_result"
    }
   ],
   "source": [
    "tree.min()"
   ]
  },
  {
   "cell_type": "code",
   "execution_count": 110,
   "id": "a420d3c5-f4dc-4744-8ced-d7cb4994c957",
   "metadata": {},
   "outputs": [
    {
     "data": {
      "text/plain": [
       "0.29214393789881443"
      ]
     },
     "execution_count": 110,
     "metadata": {},
     "output_type": "execute_result"
    }
   ],
   "source": [
    "sorted_data = tree.lcr()\n",
    "\n",
    "sorted_data[0]"
   ]
  },
  {
   "cell_type": "code",
   "execution_count": 111,
   "id": "51424f25-31ad-4778-a758-6b978c94d605",
   "metadata": {},
   "outputs": [],
   "source": [
    "class BinaryTree:\n",
    "    def __init__(self): # метод инициализации, вызывается без аргументов\n",
    "        self.root = EmptyNode() # инициализирует единственный атрибут экземпляра класса root экземпляром класса EmptyNode, назначение атрибута root -- это хранение ссылки на корень дерева\n",
    "        BinaryNode.count = 0   # при создании класса атрибут count инициализируется значением 0\n",
    "        \n",
    "    def __repr__(self): # метод строкового представления\n",
    "        return repr(self.root) # возвращает строковое представление для корня дерева root\n",
    "        \n",
    "    def insert(self, value): # метод вставки в дерево нового элемента\n",
    "        self.root = self.root.insert(value) # новый элемент является листом со значением value            \n",
    "        \n",
    "    def __contains__(self, value):\n",
    "        return value in self.root   # возвращаем результат вызова операции in для корневой вершины\n",
    "    \n",
    "    def __len__(self):\n",
    "        return len(self.root)     # вызывает функцию len для корневой вершины\n",
    "    \n",
    "    def lcr(self):\n",
    "        return self.root.lcr()    # метод lcr класса BinaryTree вызывает метод lcr для корневой вершины\n",
    "    \n",
    "    def min(self):\n",
    "        return self.root.min()    #  метод min класса BinaryTree вызывает метод min для корневой вершины\n",
    "    \n",
    "    def max(self):\n",
    "        return self.root.max()    #  метод max класса BinaryTree вызывает метод max для корневой вершины"
   ]
  },
  {
   "cell_type": "code",
   "execution_count": 112,
   "id": "d45b6604-4203-4dd7-b60a-54869839db79",
   "metadata": {},
   "outputs": [],
   "source": [
    "class EmptyNode:        \n",
    "    def __repr__(self):         # метод строкового представления\n",
    "        return \"*\"              # возвращает символ *\n",
    "    \n",
    "    def insert(self, value):    # метод вставки в пустую вершину новой вершины со значением value\n",
    "        return BinaryNode(self, value, self) # возвращаем новый экземпляр класса BinaryNode со значением value\n",
    "    \n",
    "    def __contains__(self, value):\n",
    "        return False            # метод __contains__ класса EmptyNode возвращает False\n",
    "    \n",
    "    def __len__(self):\n",
    "        return 0              # возвращаем 0\n",
    "    \n",
    "    def lcr(self):\n",
    "        return []              # метод lcr класса EmptyNode возвращает пустой список\n",
    "    \n",
    "    def min(self):\n",
    "        return None           # метод min класса EmptyNode возвращает None\n",
    "    \n",
    "    def max(self):\n",
    "        return None           # метод max класса EmptyNode возвращает None"
   ]
  },
  {
   "cell_type": "code",
   "execution_count": 113,
   "id": "b9ad179a-778d-40cc-b4df-dd3ceb2ce5c7",
   "metadata": {},
   "outputs": [],
   "source": [
    "class BinaryNode:\n",
    "    def __init__(self, left, value, right): # Метод инициализации экземпляра класса для инициализации одноименных атрибутов экземпляра класса left, value и right соответствующими значениями\n",
    "        self.left = left                    # left - хранение ссылки на корень левого поддерева\n",
    "        self.value = value                  # value - хранение значения вершины\n",
    "        self.right = right                  # right - хранение ссылки на корень правого поддерева\n",
    "        BinaryNode.count += 1               # при создании экземпляра класса значение атрибута count увеличивается на 1\n",
    "        \n",
    "    def __repr__(self): # Метод строкового представления экземпляра класса __repr__ возвращает кортеж\n",
    "        return \"(%s, %s, %s)\" % (repr(self.left), repr(self.value), repr(self.right))\n",
    "    \n",
    "    def insert(self, value):   # метод вставки в текущую вершину новой вершины value\n",
    "        if value < self.value: #если value<self.value, то вызывается метод insert(value) для левого поддерева\n",
    "            self.left = self.left.insert(value)\n",
    "            return self \n",
    "        else:\n",
    "            self.right = self.right.insert(value) # если value>=self.value, то вызывается метод insert(value) для правого поддерева\n",
    "            return self \n",
    "        \n",
    "    def __contains__(self, value):      # проверяемое значение value сравнивается со значением корневой вершины self.value\n",
    "        if value == self.value:         # если value==self.value, то возвращается True\n",
    "            return True\n",
    "        elif value < self.value:        # если value<self.value, то возвращается результат вызова операции in для корня левого поддерева\n",
    "            return (value in self.left)\n",
    "        else:\n",
    "            return (value in self.right) # если value>self.value, возвращается результат вызова операции in для корня правого поддерева\n",
    "        \n",
    "    def __len__(self):            # метод __len__ класса BinaryNode возвращает значение атрибута count класса BinaryNode\n",
    "        return self.count         # атрибут count используется как счетчик созданных экземпляров класса BinaryNode\n",
    "    \n",
    "    def lcr(self):\n",
    "        result = []                #  создали список, он формируется на основе вызова метода lcr для левого поддерева и правого поддерева\n",
    "        result = self.left.lcr() + [self.value] + self.right.lcr()  # осуществляем конкатенацию по правилу центрирования\n",
    "        return result              \n",
    "    \n",
    "    def min(self):\n",
    "        if isinstance(self.left, EmptyNode):    # если левое поддерево является пустой вершиной (экземпляром класса  EmptyNode)\n",
    "            return self.value                   # возвращаем self.value \n",
    "        else:                                   # левое поддерево не является пустой вершиной\n",
    "            return self.left.min()              # вызываем метод min для корня левого поддерева\n",
    "        \n",
    "    def max(self):\n",
    "        if isinstance(self.right, EmptyNode):    # если правое поддерево является пустой вершиной (экземпляром класса  EmptyNode)\n",
    "            return self.value                   # возвращаем self.value \n",
    "        else:                                   # правое поддерево не является пустой вершиной\n",
    "            return self.right.max()              # вызываем метод max для корня правого поддерева"
   ]
  },
  {
   "cell_type": "code",
   "execution_count": 114,
   "id": "4b037eba-2f3d-47ca-9404-718c728b397c",
   "metadata": {},
   "outputs": [],
   "source": [
    "tree = BinaryTree()"
   ]
  },
  {
   "cell_type": "code",
   "execution_count": 115,
   "id": "2c886e6e-d30f-45c3-be31-928020b6bbae",
   "metadata": {},
   "outputs": [
    {
     "data": {
      "text/plain": [
       "*"
      ]
     },
     "execution_count": 115,
     "metadata": {},
     "output_type": "execute_result"
    }
   ],
   "source": [
    "tree"
   ]
  },
  {
   "cell_type": "code",
   "execution_count": 116,
   "id": "d3ec34e4-2a50-430c-9f46-bff0dde5508a",
   "metadata": {},
   "outputs": [
    {
     "name": "stdout",
     "output_type": "stream",
     "text": [
      "None\n"
     ]
    }
   ],
   "source": [
    "print(tree.max())"
   ]
  },
  {
   "cell_type": "code",
   "execution_count": 117,
   "id": "329d07f7-7d3c-438d-ab05-183f0d082818",
   "metadata": {},
   "outputs": [
    {
     "data": {
      "text/plain": [
       "(*, 5, *)"
      ]
     },
     "execution_count": 117,
     "metadata": {},
     "output_type": "execute_result"
    }
   ],
   "source": [
    "tree.insert(5)\n",
    "tree"
   ]
  },
  {
   "cell_type": "code",
   "execution_count": 118,
   "id": "439ea7ff-3d80-4977-8fb4-cd2b683447b1",
   "metadata": {},
   "outputs": [
    {
     "data": {
      "text/plain": [
       "5"
      ]
     },
     "execution_count": 118,
     "metadata": {},
     "output_type": "execute_result"
    }
   ],
   "source": [
    "tree.max()"
   ]
  },
  {
   "cell_type": "code",
   "execution_count": 119,
   "id": "c8246127-dee1-4bd3-b60f-43537a562188",
   "metadata": {},
   "outputs": [
    {
     "data": {
      "text/plain": [
       "(*, 5, (*, 7, *))"
      ]
     },
     "execution_count": 119,
     "metadata": {},
     "output_type": "execute_result"
    }
   ],
   "source": [
    "tree.insert(7)\n",
    "tree"
   ]
  },
  {
   "cell_type": "code",
   "execution_count": 120,
   "id": "a2ea0b6b-adeb-499d-95c7-701a307ceb7d",
   "metadata": {},
   "outputs": [
    {
     "data": {
      "text/plain": [
       "7"
      ]
     },
     "execution_count": 120,
     "metadata": {},
     "output_type": "execute_result"
    }
   ],
   "source": [
    "tree.max()"
   ]
  },
  {
   "cell_type": "code",
   "execution_count": 121,
   "id": "63291318-5c56-4c24-b706-555a8da5674d",
   "metadata": {},
   "outputs": [
    {
     "data": {
      "text/plain": [
       "((*, 1, (*, 3, (*, 4, *))), 5, ((*, 5, *), 7, (*, 10, (*, 12, (*, 56, *)))))"
      ]
     },
     "execution_count": 121,
     "metadata": {},
     "output_type": "execute_result"
    }
   ],
   "source": [
    "source_data1 = [5,1,10,3,4, 12, 56]\n",
    "for i in source_data1:\n",
    "    tree.insert(i)\n",
    "    \n",
    "tree"
   ]
  },
  {
   "cell_type": "code",
   "execution_count": 122,
   "id": "91209236-19b6-4362-8b48-e63fd7cba5ea",
   "metadata": {},
   "outputs": [
    {
     "data": {
      "text/plain": [
       "56"
      ]
     },
     "execution_count": 122,
     "metadata": {},
     "output_type": "execute_result"
    }
   ],
   "source": [
    "tree.max()"
   ]
  },
  {
   "cell_type": "code",
   "execution_count": 123,
   "id": "dfab216b-23a7-440e-88e6-25574502aa22",
   "metadata": {},
   "outputs": [],
   "source": [
    "source_data = [rnd.uniform(0,100) for _ in range(10**3)]\n",
    "tree = BinaryTree()\n",
    "for i in source_data:\n",
    "    tree.insert(i)"
   ]
  },
  {
   "cell_type": "code",
   "execution_count": 124,
   "id": "1c701e7f-10af-4a28-9c31-1d85af55c3b6",
   "metadata": {},
   "outputs": [
    {
     "data": {
      "text/plain": [
       "99.8946562593087"
      ]
     },
     "execution_count": 124,
     "metadata": {},
     "output_type": "execute_result"
    }
   ],
   "source": [
    "tree.max()"
   ]
  },
  {
   "cell_type": "code",
   "execution_count": 125,
   "id": "0748d6d7-5b14-4dbd-8b58-f5511843f6bf",
   "metadata": {},
   "outputs": [
    {
     "data": {
      "text/plain": [
       "99.8946562593087"
      ]
     },
     "execution_count": 125,
     "metadata": {},
     "output_type": "execute_result"
    }
   ],
   "source": [
    "sorted_data = tree.lcr()\n",
    "\n",
    "sorted_data[-1]"
   ]
  },
  {
   "cell_type": "markdown",
   "id": "4b884dca-4eea-48f2-b255-a216c06c5329",
   "metadata": {},
   "source": [
    "## Задание 9.3 (Создание модуля)\n",
    "\n",
    "$\\color{red}{Напишите}$ модуль binaryTree.py на основе созданных классов.\n",
    "\n",
    "$\\color{red}{Напишите}$ строки документации для классов BinaryTree, BinaryNode, EmptyNode и для каждого метода классов.\n",
    "\n",
    "$\\color{red}{Протестируйте}$ работу созданного модуля на примерах."
   ]
  },
  {
   "cell_type": "code",
   "execution_count": 126,
   "id": "151f1e05-9223-4d0a-bd0e-6d27a2db3a02",
   "metadata": {},
   "outputs": [],
   "source": [
    "import binaryTree"
   ]
  },
  {
   "cell_type": "code",
   "execution_count": 127,
   "id": "0dc37fd5-6aa2-45f5-9692-014a00c528b9",
   "metadata": {},
   "outputs": [],
   "source": [
    "import matplotlib.pyplot as plt"
   ]
  },
  {
   "cell_type": "code",
   "execution_count": 128,
   "id": "36154371-0a19-4af1-9a7f-9d1c4eb0d68f",
   "metadata": {},
   "outputs": [],
   "source": [
    "import random as rnd"
   ]
  },
  {
   "cell_type": "code",
   "execution_count": 129,
   "id": "aa5ffdb0-fca7-43e5-8a0c-984d21988e8c",
   "metadata": {},
   "outputs": [],
   "source": [
    "source_data = [rnd.uniform(0,100) for i in range(10**3)]"
   ]
  },
  {
   "cell_type": "code",
   "execution_count": 130,
   "id": "78dac1dd-8ef4-40dd-acd1-2676da28bbc1",
   "metadata": {},
   "outputs": [],
   "source": [
    "tree = binaryTree.BinaryTree()\n",
    "for i in source_data:\n",
    "    tree.insert(i)"
   ]
  },
  {
   "cell_type": "code",
   "execution_count": 131,
   "id": "8618fcd6-0fed-4321-84c1-eb5c2bd81d40",
   "metadata": {},
   "outputs": [
    {
     "data": {
      "text/plain": [
       "1000"
      ]
     },
     "execution_count": 131,
     "metadata": {},
     "output_type": "execute_result"
    }
   ],
   "source": [
    "len(tree)"
   ]
  },
  {
   "cell_type": "code",
   "execution_count": 132,
   "id": "62b517f7-b8c6-4858-811a-4240c770b529",
   "metadata": {},
   "outputs": [
    {
     "data": {
      "text/plain": [
       "0.2833879352038382"
      ]
     },
     "execution_count": 132,
     "metadata": {},
     "output_type": "execute_result"
    }
   ],
   "source": [
    "tree.min()"
   ]
  },
  {
   "cell_type": "code",
   "execution_count": 133,
   "id": "533c31b4-e0ab-4931-af22-e503261fc1cb",
   "metadata": {},
   "outputs": [
    {
     "data": {
      "text/plain": [
       "99.79561752890433"
      ]
     },
     "execution_count": 133,
     "metadata": {},
     "output_type": "execute_result"
    }
   ],
   "source": [
    "tree.max()"
   ]
  },
  {
   "cell_type": "code",
   "execution_count": 134,
   "id": "8972034d-44e8-424a-9d97-b1dba93b2311",
   "metadata": {},
   "outputs": [],
   "source": [
    "sorted_data = tree.lcr()"
   ]
  },
  {
   "cell_type": "code",
   "execution_count": 135,
   "id": "3a29b0bf-aaff-4ccc-b2cd-a3c4cf36317c",
   "metadata": {},
   "outputs": [
    {
     "data": {
      "text/plain": [
       "<matplotlib.legend.Legend at 0x2709ecad070>"
      ]
     },
     "execution_count": 135,
     "metadata": {},
     "output_type": "execute_result"
    },
    {
     "data": {
      "image/png": "[encoded data removed]",
      "text/plain": [
       "<Figure size 432x288 with 1 Axes>"
      ]
     },
     "metadata": {
      "needs_background": "light"
     },
     "output_type": "display_data"
    }
   ],
   "source": [
    "plt.plot(source_data,'r.', label='Initial data')\n",
    "plt.plot(sorted_data,color='blue',label='Sorted data')\n",
    "plt.title('Sequences of numbers')\n",
    "plt.legend()"
   ]
  },
  {
   "cell_type": "code",
   "execution_count": 136,
   "id": "ada1d6ad-b49b-4867-b8e4-c604158f6e29",
   "metadata": {},
   "outputs": [],
   "source": [
    "source_data = [6, 4, 9, 12, 1, 2,1, 89, 54, 3]\n",
    "tree = binaryTree.BinaryTree()\n",
    "for i in source_data:\n",
    "    tree.insert(i)"
   ]
  },
  {
   "cell_type": "code",
   "execution_count": 137,
   "id": "241485a8-6f23-4d75-a39f-8c21e583b43f",
   "metadata": {},
   "outputs": [
    {
     "data": {
      "text/plain": [
       "(10, 1, 89)"
      ]
     },
     "execution_count": 137,
     "metadata": {},
     "output_type": "execute_result"
    }
   ],
   "source": [
    "len(tree), tree.min(), tree.max()"
   ]
  },
  {
   "cell_type": "code",
   "execution_count": 138,
   "id": "8f3bd629-5ef0-47e8-b832-1b1d6684974d",
   "metadata": {},
   "outputs": [
    {
     "data": {
      "text/plain": [
       "(((*, 1, ((*, 1, *), 2, (*, 3, *))), 4, *), 6, (*, 9, (*, 12, ((*, 54, *), 89, *))))"
      ]
     },
     "execution_count": 138,
     "metadata": {},
     "output_type": "execute_result"
    }
   ],
   "source": [
    "tree"
   ]
  },
  {
   "cell_type": "code",
   "execution_count": 139,
   "id": "c93480eb-1b10-40e6-94e2-625a5033e7ee",
   "metadata": {},
   "outputs": [
    {
     "data": {
      "text/plain": [
       "[1, 1, 2, 3, 4, 6, 9, 12, 54, 89]"
      ]
     },
     "execution_count": 139,
     "metadata": {},
     "output_type": "execute_result"
    }
   ],
   "source": [
    "sorted_data = tree.lcr()\n",
    "\n",
    "sorted_data"
   ]
  },
  {
   "cell_type": "code",
   "execution_count": 140,
   "id": "91adc865-635c-4254-b658-48c2ffe1a7ed",
   "metadata": {},
   "outputs": [
    {
     "data": {
      "text/plain": [
       "\u001b[1;31mType:\u001b[0m           BinaryTree\n",
       "\u001b[1;31mString form:\u001b[0m    (((*, 1, ((*, 1, *), 2, (*, 3, *))), 4, *), 6, (*, 9, (*, 12, ((*, 54, *), 89, *))))\n",
       "\u001b[1;31mLength:\u001b[0m         10\n",
       "\u001b[1;31mFile:\u001b[0m           c:\\users\\user\\documents\\km2\\binarytree.py\n",
       "\u001b[1;31mDocstring:\u001b[0m     \n",
       "Класс BinaryTree определяет шаблон для создания объекта, представляющего бинарное дерево поиска\n",
       "    \n",
       "\u001b[1;31mInit docstring:\u001b[0m\n",
       "Метод инициализации экземпляра класса init вызывается без аргументов и инициализирует единственный атрибут экземпляра класса root экземпляром класса EmptyNode\n",
       "        \n"
      ]
     },
     "metadata": {},
     "output_type": "display_data"
    }
   ],
   "source": [
    "?tree"
   ]
  },
  {
   "cell_type": "code",
   "execution_count": 141,
   "id": "d8b24735-7195-4b4d-923b-3be2cfd62585",
   "metadata": {},
   "outputs": [
    {
     "data": {
      "text/plain": [
       "\u001b[1;31mInit signature:\u001b[0m \u001b[0mbinaryTree\u001b[0m\u001b[1;33m.\u001b[0m\u001b[0mBinaryNode\u001b[0m\u001b[1;33m(\u001b[0m\u001b[0mleft\u001b[0m\u001b[1;33m,\u001b[0m \u001b[0mvalue\u001b[0m\u001b[1;33m,\u001b[0m \u001b[0mright\u001b[0m\u001b[1;33m)\u001b[0m\u001b[1;33m\u001b[0m\u001b[1;33m\u001b[0m\u001b[0m\n",
       "\u001b[1;31mDocstring:\u001b[0m     \n",
       "Класс BinaryNode определяет шаблон для создания объекта, представляющего элемент бинарного дерева поиска\n",
       "\n",
       "Определение класса BinaryNode содержит ТРИ метода: init, repr и insert.\n",
       "    \n",
       "\u001b[1;31mInit docstring:\u001b[0m\n",
       "Метод инициализации экземпляра класса вызывается с тремя аргументами left, value и right для инициализации одноименных атрибутов экземпляра класса left, value и right соответствующими значениями\n",
       "        \n",
       "\u001b[1;31mFile:\u001b[0m           c:\\users\\user\\documents\\km2\\binarytree.py\n",
       "\u001b[1;31mType:\u001b[0m           type\n",
       "\u001b[1;31mSubclasses:\u001b[0m     \n"
      ]
     },
     "metadata": {},
     "output_type": "display_data"
    }
   ],
   "source": [
    "binaryTree.BinaryNode?"
   ]
  },
  {
   "cell_type": "code",
   "execution_count": 142,
   "id": "f5276cb8-ad5d-4dab-a6c8-947fddb418bd",
   "metadata": {},
   "outputs": [
    {
     "data": {
      "text/plain": [
       "'Класс BinaryNode определяет шаблон для создания объекта, представляющего элемент бинарного дерева поиска\\n\\nОпределение класса BinaryNode содержит ТРИ метода: init, repr и insert.\\n    '"
      ]
     },
     "execution_count": 142,
     "metadata": {},
     "output_type": "execute_result"
    }
   ],
   "source": [
    "binaryTree.BinaryNode.__doc__"
   ]
  },
  {
   "cell_type": "code",
   "execution_count": 143,
   "id": "b905d19a-f50f-4d84-8feb-e1081a45f751",
   "metadata": {},
   "outputs": [
    {
     "data": {
      "text/plain": [
       "\u001b[1;31mSignature:\u001b[0m \u001b[0mbinaryTree\u001b[0m\u001b[1;33m.\u001b[0m\u001b[0mBinaryNode\u001b[0m\u001b[1;33m.\u001b[0m\u001b[0mmin\u001b[0m\u001b[1;33m(\u001b[0m\u001b[0mself\u001b[0m\u001b[1;33m)\u001b[0m\u001b[1;33m\u001b[0m\u001b[1;33m\u001b[0m\u001b[0m\n",
       "\u001b[1;31mDocstring:\u001b[0m\n",
       "Метод min класса BinaryNode анализирует только левое поддерево для экземпляра класса BinaryNode\n",
       "\n",
       "Returns: self.value, если левое поддерево является пустой вершиной (экземпляром класса  EmptyNode),\n",
       "иначе - вызываем метод min для корня левого поддерева\n",
       "\u001b[1;31mFile:\u001b[0m      c:\\users\\user\\documents\\km2\\binarytree.py\n",
       "\u001b[1;31mType:\u001b[0m      function\n"
      ]
     },
     "metadata": {},
     "output_type": "display_data"
    }
   ],
   "source": [
    "binaryTree.BinaryNode.min?"
   ]
  },
  {
   "cell_type": "code",
   "execution_count": 144,
   "id": "a2310244-8da2-431e-a75d-9927f38c31f3",
   "metadata": {},
   "outputs": [
    {
     "data": {
      "text/plain": [
       "'Метод min класса BinaryNode анализирует только левое поддерево для экземпляра класса BinaryNode\\n        \\n        Returns: self.value, если левое поддерево является пустой вершиной (экземпляром класса  EmptyNode),\\n        иначе - вызываем метод min для корня левого поддерева\\n        '"
      ]
     },
     "execution_count": 144,
     "metadata": {},
     "output_type": "execute_result"
    }
   ],
   "source": [
    "binaryTree.BinaryNode.min.__doc__"
   ]
  },
  {
   "cell_type": "code",
   "execution_count": 145,
   "id": "5716af42-8370-457c-b9bf-b2a659b00065",
   "metadata": {},
   "outputs": [
    {
     "data": {
      "text/plain": [
       "'Метод lcr класса BinaryNode возвращает список значений вершин, соответствующих центрированному обходу дерева с корнем self.value для экземпляра класса BinaryNode. \\n        \\n        Returns: результирующий список, который формируется на основе вызова метода lcr для левого поддерева self.left и правого поддерева self.right (осуществляет конкатенацию списков по правилу центрированного обхода)\\n        '"
      ]
     },
     "execution_count": 145,
     "metadata": {},
     "output_type": "execute_result"
    }
   ],
   "source": [
    "binaryTree.BinaryNode.lcr.__doc__"
   ]
  },
  {
   "cell_type": "code",
   "execution_count": 146,
   "id": "cb45b144-fb68-488f-b9b9-47d1647028e8",
   "metadata": {},
   "outputs": [
    {
     "data": {
      "text/plain": [
       "\u001b[1;31mSignature:\u001b[0m \u001b[0mbinaryTree\u001b[0m\u001b[1;33m.\u001b[0m\u001b[0mBinaryNode\u001b[0m\u001b[1;33m.\u001b[0m\u001b[0mlcr\u001b[0m\u001b[1;33m(\u001b[0m\u001b[0mself\u001b[0m\u001b[1;33m)\u001b[0m\u001b[1;33m\u001b[0m\u001b[1;33m\u001b[0m\u001b[0m\n",
       "\u001b[1;31mDocstring:\u001b[0m\n",
       "Метод lcr класса BinaryNode возвращает список значений вершин, соответствующих центрированному обходу дерева с корнем self.value для экземпляра класса BinaryNode. \n",
       "\n",
       "Returns: результирующий список, который формируется на основе вызова метода lcr для левого поддерева self.left и правого поддерева self.right (осуществляет конкатенацию списков по правилу центрированного обхода)\n",
       "\u001b[1;31mFile:\u001b[0m      c:\\users\\user\\documents\\km2\\binarytree.py\n",
       "\u001b[1;31mType:\u001b[0m      function\n"
      ]
     },
     "metadata": {},
     "output_type": "display_data"
    }
   ],
   "source": [
    "binaryTree.BinaryNode.lcr?"
   ]
  },
  {
   "cell_type": "code",
   "execution_count": null,
   "id": "ddd71a88-5502-42bd-bcd6-5603da183b37",
   "metadata": {},
   "outputs": [],
   "source": []
  }
 ],
 "metadata": {
  "kernelspec": {
   "display_name": "Python 3 (ipykernel)",
   "language": "python",
   "name": "python3"
  },
  "language_info": {
   "codemirror_mode": {
    "name": "ipython",
    "version": 3
   },
   "file_extension": ".py",
   "mimetype": "text/x-python",
   "name": "python",
   "nbconvert_exporter": "python",
   "pygments_lexer": "ipython3",
   "version": "3.9.16"
  }
 },
 "nbformat": 4,
 "nbformat_minor": 5
}
